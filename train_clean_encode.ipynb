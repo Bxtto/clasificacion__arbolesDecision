{
 "cells": [
  {
   "cell_type": "markdown",
   "id": "d419f592",
   "metadata": {},
   "source": [
    "# Descripcion del dataset\n",
    "\n",
    "Para describir un dataset como **\"Cat in the Dat\"**, seguiría estos pasos:\n",
    "\n",
    "---\n",
    "\n",
    "### 1. **Descripción General del Dataset**\n",
    "El dataset **\"Cat in the Dat\"** es un conjunto de datos categóricos diseñado para un problema de clasificación binaria. El objetivo es predecir una **variable objetivo binaria (`target`)** basada en múltiples características categóricas. Este dataset es útil para explorar técnicas de preprocesamiento y codificación de datos categóricos.\n",
    "\n",
    "---\n",
    "\n",
    "### 2. **Objetivo del Dataset**\n",
    "El objetivo principal es construir un modelo que prediga el valor de la variable `target` (0 o 1) utilizando las características categóricas proporcionadas. Este problema es típico en tareas de clasificación supervisada.\n",
    "\n",
    "---\n",
    "\n",
    "### 3. **Atributos del Dataset**\n",
    "El dataset contiene las siguientes columnas:\n",
    "\n",
    "- **`id`**: Identificador único para cada fila. No tiene relevancia para el análisis.\n",
    "- **`target`**: Variable objetivo binaria (0 o 1). Es el atributo clase que queremos predecir.\n",
    "- **Características categóricas**:\n",
    "  - **Ordinales**: Variables categóricas con un orden lógico (por ejemplo, niveles educativos).\n",
    "  - **Nominales**: Variables categóricas sin un orden lógico (por ejemplo, colores o nombres).\n",
    "  - **Cíclicas**: Variables categóricas que tienen un patrón cíclico (por ejemplo, meses o días de la semana).\n",
    "\n",
    "---\n",
    "\n",
    "### 4. **Significado de los Atributos**\n",
    "El significado exacto de las columnas puede variar dependiendo de la descripción oficial del dataset (si está disponible). Sin embargo, en general, las columnas categóricas representan diferentes tipos de datos categóricos que deben ser preprocesados antes de usarse en un modelo.\n",
    "\n",
    "Ejemplo de atributos categóricos:\n",
    "- **`bin_0`, `bin_1`, ...`bin_n`**: Variables binarias (0 o 1).\n",
    "- **`nom_0`, `nom_1`, ...`nom_n`**: Variables nominales con múltiples categorías.\n",
    "- **`ord_0`, `ord_1`, ...`ord_n`**: Variables ordinales con un orden lógico.\n",
    "- **`day`, `month`**: Variables cíclicas que representan días y meses.\n",
    "\n",
    "---\n",
    "\n",
    "### 5. **Atributo Clase**\n",
    "El atributo clase es **`target`**, que toma valores binarios:\n",
    "- **0**: Clase negativa.\n",
    "- **1**: Clase positiva.\n",
    "\n",
    "Este es el atributo que queremos predecir utilizando las demás columnas como características.\n",
    "\n",
    "---\n",
    "\n",
    "### 6. **Exploración Inicial**\n",
    "Para entender mejor el dataset, realizaría un análisis exploratorio inicial:\n",
    "\n",
    "```python\n",
    "import pandas as pd\n",
    "\n",
    "# Cargar el dataset\n",
    "df = pd.read_csv(\"train.csv\")\n",
    "\n",
    "# Información general del dataset\n",
    "print(df.info())\n",
    "\n",
    "# Resumen estadístico\n",
    "print(df.describe(include=\"all\"))\n",
    "\n",
    "# Verificar valores únicos por columna\n",
    "for col in df.columns:\n",
    "    print(f\"{col}: {df[col].nunique()} valores únicos\")\n",
    "\n",
    "# Visualizar las primeras filas\n",
    "print(df.head())\n",
    "```\n",
    "\n",
    "---\n",
    "\n",
    "### 7. **Conclusión**\n",
    "El dataset **\"Cat in the Dat\"** es un excelente ejemplo para trabajar con datos categóricos. Su objetivo es predecir una variable binaria (`target`) utilizando una variedad de características categóricas que requieren diferentes técnicas de preprocesamiento, como codificación y manejo de valores faltantes."
   ]
  },
  {
   "cell_type": "markdown",
   "id": "2341a2ba",
   "metadata": {},
   "source": [
    "# Importacion del dataset test"
   ]
  },
  {
   "cell_type": "code",
   "execution_count": 2,
   "id": "e74569e5",
   "metadata": {},
   "outputs": [],
   "source": [
    "import numpy as np\n",
    "import pandas as pd\n",
    "import matplotlib.pyplot as plt\n",
    "import seaborn as sns\n",
    "df = pd.read_csv(\"train.csv\")\n"
   ]
  },
  {
   "cell_type": "markdown",
   "id": "3edb1140",
   "metadata": {},
   "source": [
    "## Limpieza inicial"
   ]
  },
  {
   "cell_type": "code",
   "execution_count": 3,
   "id": "b6e69938",
   "metadata": {},
   "outputs": [
    {
     "name": "stdout",
     "output_type": "stream",
     "text": [
      "Index([], dtype='object')\n"
     ]
    }
   ],
   "source": [
    "# Eliminar columnas con más del 70% de valores faltantes\n",
    "umbral = 0.7\n",
    "columnas_a_eliminar = df.columns[df.isnull().mean() > umbral]\n",
    "df.drop(columns=columnas_a_eliminar, inplace=True)\n",
    "print(columnas_a_eliminar)"
   ]
  },
  {
   "cell_type": "code",
   "execution_count": 4,
   "id": "1bc497f9",
   "metadata": {},
   "outputs": [
    {
     "name": "stderr",
     "output_type": "stream",
     "text": [
      "C:\\Users\\Windows\\AppData\\Local\\Temp\\ipykernel_4316\\3116093107.py:3: FutureWarning: A value is trying to be set on a copy of a DataFrame or Series through chained assignment using an inplace method.\n",
      "The behavior will change in pandas 3.0. This inplace method will never work because the intermediate object on which we are setting values always behaves as a copy.\n",
      "\n",
      "For example, when doing 'df[col].method(value, inplace=True)', try using 'df.method({col: value}, inplace=True)' or df[col] = df[col].method(value) instead, to perform the operation inplace on the original object.\n",
      "\n",
      "\n",
      "  df[col].fillna(df[col].median(), inplace=True)\n",
      "C:\\Users\\Windows\\AppData\\Local\\Temp\\ipykernel_4316\\3116093107.py:3: FutureWarning: A value is trying to be set on a copy of a DataFrame or Series through chained assignment using an inplace method.\n",
      "The behavior will change in pandas 3.0. This inplace method will never work because the intermediate object on which we are setting values always behaves as a copy.\n",
      "\n",
      "For example, when doing 'df[col].method(value, inplace=True)', try using 'df.method({col: value}, inplace=True)' or df[col] = df[col].method(value) instead, to perform the operation inplace on the original object.\n",
      "\n",
      "\n",
      "  df[col].fillna(df[col].median(), inplace=True)\n",
      "C:\\Users\\Windows\\AppData\\Local\\Temp\\ipykernel_4316\\3116093107.py:3: FutureWarning: A value is trying to be set on a copy of a DataFrame or Series through chained assignment using an inplace method.\n",
      "The behavior will change in pandas 3.0. This inplace method will never work because the intermediate object on which we are setting values always behaves as a copy.\n",
      "\n",
      "For example, when doing 'df[col].method(value, inplace=True)', try using 'df.method({col: value}, inplace=True)' or df[col] = df[col].method(value) instead, to perform the operation inplace on the original object.\n",
      "\n",
      "\n",
      "  df[col].fillna(df[col].median(), inplace=True)\n",
      "C:\\Users\\Windows\\AppData\\Local\\Temp\\ipykernel_4316\\3116093107.py:3: FutureWarning: A value is trying to be set on a copy of a DataFrame or Series through chained assignment using an inplace method.\n",
      "The behavior will change in pandas 3.0. This inplace method will never work because the intermediate object on which we are setting values always behaves as a copy.\n",
      "\n",
      "For example, when doing 'df[col].method(value, inplace=True)', try using 'df.method({col: value}, inplace=True)' or df[col] = df[col].method(value) instead, to perform the operation inplace on the original object.\n",
      "\n",
      "\n",
      "  df[col].fillna(df[col].median(), inplace=True)\n",
      "C:\\Users\\Windows\\AppData\\Local\\Temp\\ipykernel_4316\\3116093107.py:3: FutureWarning: A value is trying to be set on a copy of a DataFrame or Series through chained assignment using an inplace method.\n",
      "The behavior will change in pandas 3.0. This inplace method will never work because the intermediate object on which we are setting values always behaves as a copy.\n",
      "\n",
      "For example, when doing 'df[col].method(value, inplace=True)', try using 'df.method({col: value}, inplace=True)' or df[col] = df[col].method(value) instead, to perform the operation inplace on the original object.\n",
      "\n",
      "\n",
      "  df[col].fillna(df[col].median(), inplace=True)\n",
      "C:\\Users\\Windows\\AppData\\Local\\Temp\\ipykernel_4316\\3116093107.py:3: FutureWarning: A value is trying to be set on a copy of a DataFrame or Series through chained assignment using an inplace method.\n",
      "The behavior will change in pandas 3.0. This inplace method will never work because the intermediate object on which we are setting values always behaves as a copy.\n",
      "\n",
      "For example, when doing 'df[col].method(value, inplace=True)', try using 'df.method({col: value}, inplace=True)' or df[col] = df[col].method(value) instead, to perform the operation inplace on the original object.\n",
      "\n",
      "\n",
      "  df[col].fillna(df[col].median(), inplace=True)\n",
      "C:\\Users\\Windows\\AppData\\Local\\Temp\\ipykernel_4316\\3116093107.py:7: FutureWarning: A value is trying to be set on a copy of a DataFrame or Series through chained assignment using an inplace method.\n",
      "The behavior will change in pandas 3.0. This inplace method will never work because the intermediate object on which we are setting values always behaves as a copy.\n",
      "\n",
      "For example, when doing 'df[col].method(value, inplace=True)', try using 'df.method({col: value}, inplace=True)' or df[col] = df[col].method(value) instead, to perform the operation inplace on the original object.\n",
      "\n",
      "\n",
      "  df[col].fillna(df[col].mode()[0], inplace=True)\n"
     ]
    },
    {
     "name": "stdout",
     "output_type": "stream",
     "text": [
      "id        0\n",
      "bin_0     0\n",
      "bin_1     0\n",
      "bin_2     0\n",
      "bin_3     0\n",
      "bin_4     0\n",
      "nom_0     0\n",
      "nom_1     0\n",
      "nom_2     0\n",
      "nom_3     0\n",
      "nom_4     0\n",
      "nom_5     0\n",
      "nom_6     0\n",
      "nom_7     0\n",
      "nom_8     0\n",
      "nom_9     0\n",
      "ord_0     0\n",
      "ord_1     0\n",
      "ord_2     0\n",
      "ord_3     0\n",
      "ord_4     0\n",
      "ord_5     0\n",
      "day       0\n",
      "month     0\n",
      "target    0\n",
      "dtype: int64\n"
     ]
    }
   ],
   "source": [
    "#Llenado de datos faltantes de tipo float64 con la mediana\n",
    "for col in df.select_dtypes(include=['float64']).columns:\n",
    "    df[col].fillna(df[col].median(), inplace=True)\n",
    "\n",
    "#Llenado de datos faltantes de tipo str con la moda\n",
    "for col in df.select_dtypes(include=['object']).columns:\n",
    "    df[col].fillna(df[col].mode()[0], inplace=True)\n",
    "\n",
    "\n",
    "#Datos faltantes\n",
    "datos_faltantes =df.isnull().sum()\n",
    "print(datos_faltantes)"
   ]
  },
  {
   "cell_type": "markdown",
   "id": "d0d8e8a9",
   "metadata": {},
   "source": [
    "## Codificacion para las variables binarias"
   ]
  },
  {
   "cell_type": "markdown",
   "id": "6bf1491e",
   "metadata": {},
   "source": [
    "- Las unicaas variables que necesitan este tipo de tratamiento son las variables bin_3 y bin_4"
   ]
  },
  {
   "cell_type": "code",
   "execution_count": 5,
   "id": "696f86f4",
   "metadata": {},
   "outputs": [
    {
     "name": "stdout",
     "output_type": "stream",
     "text": [
      "   bin_3  bin_4\n",
      "0      0      0\n",
      "1      0      1\n",
      "2      0      0\n",
      "3      0      0\n",
      "4      1      0\n"
     ]
    }
   ],
   "source": [
    "from sklearn.calibration import LabelEncoder\n",
    "\n",
    "columnas_binarias = ['bin_3','bin_4']\n",
    "\n",
    "#Codificacion para bin_3\n",
    "le = LabelEncoder()\n",
    "label_encoder_bin3 = df['bin_3'].values\n",
    "bin_3_np = le.fit_transform(label_encoder_bin3)\n",
    "\n",
    "#Codificacion para bin_4\n",
    "le = LabelEncoder()\n",
    "label_encoder_bin4 = df['bin_4'].values\n",
    "bin_4_np = le.fit_transform(label_encoder_bin4)\n",
    "\n",
    "#Creacion de dataframe para las variables binarias codificadas\n",
    "d = {\n",
    "    'bin_3' : bin_3_np,\n",
    "    'bin_4' : bin_4_np\n",
    "}\n",
    "\n",
    "#Se agregan los dos columnas a un dataframe\n",
    "X_label_endoded_df = pd.DataFrame(data = d)\n",
    "\n",
    "print(X_label_endoded_df.head()) "
   ]
  },
  {
   "cell_type": "markdown",
   "id": "3194601d",
   "metadata": {},
   "source": [
    "## Codificicacion Nominal (One-Hot Encoding) - Test"
   ]
  },
  {
   "cell_type": "markdown",
   "id": "4d21a570",
   "metadata": {},
   "source": [
    "- En el siguiente paso vamos a hacer codificacion nominal usando One-Hot Encoding para convertir los datos categoricos de las columnas nom_0, nom_1, ... , nom_9. "
   ]
  },
  {
   "cell_type": "code",
   "execution_count": 6,
   "id": "2ae90c10",
   "metadata": {},
   "outputs": [
    {
     "name": "stdout",
     "output_type": "stream",
     "text": [
      "\n",
      "Codificación One-Hot para variables nominales:\n",
      "   nom_0_Blue  nom_0_Green  nom_0_Red  nom_1_Circle  nom_1_Polygon  \\\n",
      "0         0.0          0.0        1.0           0.0            0.0   \n",
      "1         0.0          0.0        1.0           0.0            0.0   \n",
      "2         0.0          0.0        1.0           0.0            0.0   \n",
      "3         0.0          0.0        1.0           1.0            0.0   \n",
      "4         0.0          0.0        1.0           0.0            0.0   \n",
      "\n",
      "   nom_1_Square  nom_1_Star  nom_1_Trapezoid  nom_1_Triangle  nom_2_Axolotl  \\\n",
      "0           0.0         0.0              1.0             0.0            0.0   \n",
      "1           0.0         1.0              0.0             0.0            1.0   \n",
      "2           0.0         0.0              0.0             1.0            0.0   \n",
      "3           0.0         0.0              0.0             0.0            0.0   \n",
      "4           0.0         0.0              0.0             1.0            0.0   \n",
      "\n",
      "   ...  nom_3_Canada  nom_3_China  nom_3_Costa Rica  nom_3_Finland  \\\n",
      "0  ...           0.0          0.0               0.0            0.0   \n",
      "1  ...           0.0          0.0               0.0            0.0   \n",
      "2  ...           1.0          0.0               0.0            0.0   \n",
      "3  ...           0.0          0.0               0.0            1.0   \n",
      "4  ...           0.0          0.0               1.0            0.0   \n",
      "\n",
      "   nom_3_India  nom_3_Russia  nom_4_Bassoon  nom_4_Oboe  nom_4_Piano  \\\n",
      "0          0.0           1.0            1.0         0.0          0.0   \n",
      "1          1.0           0.0            0.0         0.0          0.0   \n",
      "2          0.0           0.0            1.0         0.0          0.0   \n",
      "3          0.0           0.0            0.0         0.0          0.0   \n",
      "4          0.0           0.0            0.0         0.0          0.0   \n",
      "\n",
      "   nom_4_Theremin  \n",
      "0             0.0  \n",
      "1             1.0  \n",
      "2             0.0  \n",
      "3             1.0  \n",
      "4             1.0  \n",
      "\n",
      "[5 rows x 25 columns]\n"
     ]
    }
   ],
   "source": [
    "from sklearn.preprocessing import OneHotEncoder\n",
    "\n",
    "#Por lo visto nom_5, ..., nom_9 son valores que tienen demasiada variabilidad\n",
    "# y por las graficas estos estan distribuidos casi uniformemente por todo el datset lo que podria indicar\n",
    "# que no son relevantes para el estudio de nuestro data set\n",
    "\n",
    "# Seleccionar columnas nominales\n",
    "columnas_nominales = ['nom_0', 'nom_1', 'nom_2', 'nom_3', 'nom_4']\n",
    "# Aplicar One-Hot Encoding\n",
    "encoder = OneHotEncoder(sparse_output=False)\n",
    "X_nominal_encoded = encoder.fit_transform(df[columnas_nominales])\n",
    "\n",
    "# Crear un DataFrame con los nombres de las columnas codificadas\n",
    "feature_names = encoder.get_feature_names_out(columnas_nominales)\n",
    "X_nominal_encoded_df = pd.DataFrame(X_nominal_encoded, columns=feature_names)\n",
    "\n",
    "print(\"\\nCodificación One-Hot para variables nominales:\")\n",
    "print(X_nominal_encoded_df.head())"
   ]
  },
  {
   "cell_type": "markdown",
   "id": "d33c0eba",
   "metadata": {},
   "source": [
    "## Codificacion Ordinal (Ordinal Encoding)"
   ]
  },
  {
   "cell_type": "code",
   "execution_count": 7,
   "id": "4386c85a",
   "metadata": {},
   "outputs": [
    {
     "name": "stdout",
     "output_type": "stream",
     "text": [
      "\n",
      "Codificación Ordinal para variables ordinales:\n",
      "   ord_0  ord_1  ord_2  ord_3  ord_4  ord_5\n",
      "0    2.0    0.0    3.0    2.0   20.0   56.0\n",
      "1    2.0    2.0    5.0    4.0   23.0  150.0\n",
      "2    2.0    4.0    2.0   13.0   15.0  105.0\n",
      "3    0.0    4.0    4.0    0.0    2.0   21.0\n",
      "4    2.0    2.0    1.0    7.0    2.0   50.0\n"
     ]
    }
   ],
   "source": [
    "from sklearn.preprocessing import OrdinalEncoder\n",
    "\n",
    "# Seleccionar columnas ordinales\n",
    "columnas_ordinales = ['ord_0', 'ord_1', 'ord_2', 'ord_3', 'ord_4', 'ord_5']  \n",
    "# Definir el orden lógico de las categorías (si aplica)\n",
    "\n",
    "ordinal_encoder = OrdinalEncoder()  # Sin especificar categorías\n",
    "X_ordinal_encoded = ordinal_encoder.fit_transform(df[columnas_ordinales])\n",
    "\n",
    "# Crear un DataFrame con las columnas codificadas\n",
    "X_ordinal_encoded_df = pd.DataFrame(X_ordinal_encoded, columns=columnas_ordinales)\n",
    "\n",
    "print(\"\\nCodificación Ordinal para variables ordinales:\")\n",
    "print(X_ordinal_encoded_df.head())"
   ]
  },
  {
   "cell_type": "markdown",
   "id": "6dba62d1",
   "metadata": {},
   "source": [
    "## Codificacion de variables ciclicas"
   ]
  },
  {
   "cell_type": "code",
   "execution_count": 8,
   "id": "5550e959",
   "metadata": {},
   "outputs": [
    {
     "name": "stdout",
     "output_type": "stream",
     "text": [
      "\n",
      "Transformación cíclica para variables 'day' y 'month':\n",
      "        day_sin   day_cos     month_sin     month_cos\n",
      "0 -7.818315e-01  0.623490  1.000000e+00  6.123234e-17\n",
      "1 -2.449294e-16  1.000000 -5.000000e-01 -8.660254e-01\n",
      "2 -9.749279e-01 -0.222521 -1.000000e+00 -1.836970e-16\n",
      "3  4.338837e-01 -0.900969  1.000000e+00  6.123234e-17\n",
      "4 -9.749279e-01 -0.222521 -2.449294e-16  1.000000e+00\n"
     ]
    }
   ],
   "source": [
    "import numpy as np\n",
    "\n",
    "# Transformar variables cíclicas\n",
    "df['day_sin'] = np.sin(2 * np.pi * df['day'] / 7)  # Día de la semana (7 días)\n",
    "df['day_cos'] = np.cos(2 * np.pi * df['day'] / 7)\n",
    "\n",
    "df['month_sin'] = np.sin(2 * np.pi * df['month'] / 12)  # Mes del año (12 meses)\n",
    "df['month_cos'] = np.cos(2 * np.pi * df['month'] / 12)\n",
    "\n",
    "print(\"\\nTransformación cíclica para variables 'day' y 'month':\")\n",
    "print(df[['day_sin', 'day_cos', 'month_sin', 'month_cos']].head())"
   ]
  },
  {
   "cell_type": "markdown",
   "id": "8b873efd",
   "metadata": {},
   "source": [
    "## Combinar las transformaciones"
   ]
  },
  {
   "cell_type": "code",
   "execution_count": 14,
   "id": "33b3c7c0",
   "metadata": {},
   "outputs": [
    {
     "name": "stdout",
     "output_type": "stream",
     "text": [
      "\n",
      "Dataset final después de las transformaciones:\n",
      "   id  bin_0  bin_1  bin_2  bin_3  bin_4  nom_0_Blue  nom_0_Green  nom_0_Red  \\\n",
      "0   0    0.0    0.0    0.0      0      0         0.0          0.0        1.0   \n",
      "1   1    1.0    1.0    0.0      0      1         0.0          0.0        1.0   \n",
      "2   2    0.0    1.0    0.0      0      0         0.0          0.0        1.0   \n",
      "3   3    0.0    0.0    0.0      0      0         0.0          0.0        1.0   \n",
      "4   4    0.0    0.0    0.0      1      0         0.0          0.0        1.0   \n",
      "\n",
      "   nom_1_Circle  ...  nom_4_Theremin  ord_0  ord_1  ord_2  ord_3  ord_4  \\\n",
      "0           0.0  ...             0.0    2.0    0.0    3.0    2.0   20.0   \n",
      "1           0.0  ...             1.0    2.0    2.0    5.0    4.0   23.0   \n",
      "2           0.0  ...             0.0    2.0    4.0    2.0   13.0   15.0   \n",
      "3           1.0  ...             1.0    0.0    4.0    4.0    0.0    2.0   \n",
      "4           0.0  ...             1.0    2.0    2.0    1.0    7.0    2.0   \n",
      "\n",
      "   ord_5  day  month  target  \n",
      "0   56.0  6.0    3.0       0  \n",
      "1  150.0  7.0    7.0       0  \n",
      "2  105.0  5.0    9.0       0  \n",
      "3   21.0  3.0    3.0       0  \n",
      "4   50.0  5.0   12.0       0  \n",
      "\n",
      "[5 rows x 40 columns]\n"
     ]
    },
    {
     "data": {
      "text/plain": [
       "pandas.core.frame.DataFrame"
      ]
     },
     "execution_count": 14,
     "metadata": {},
     "output_type": "execute_result"
    }
   ],
   "source": [
    "# Combinar todas las transformaciones\n",
    "df_final = pd.concat([df[['id', 'bin_0', 'bin_1', 'bin_2']], X_label_endoded_df, X_nominal_encoded_df, X_ordinal_encoded_df, df[['day','month','target']] ], axis=1)\n",
    "#df_final = pd.concat(X_label_endoded_df, X_nominal_encoded_df, axis=1)\n",
    "#df_final = pd.concat( X_ordinal_encoded_df, df[['day_sin', 'day_cos', 'month_sin', 'month_cos', 'target']], axis=1)\n",
    "\n",
    "\n",
    "print(\"\\nDataset final después de las transformaciones:\")\n",
    "print(df_final.head())\n",
    "type(df_final)"
   ]
  },
  {
   "cell_type": "code",
   "execution_count": 15,
   "id": "a346d7ad",
   "metadata": {},
   "outputs": [],
   "source": [
    "csv_filename = 'train_encoded'\n",
    "df_final.to_csv(csv_filename, index=False)"
   ]
  },
  {
   "cell_type": "markdown",
   "id": "dd6d62a8",
   "metadata": {},
   "source": [
    "## Prueba para arboles de decision"
   ]
  },
  {
   "cell_type": "code",
   "execution_count": 24,
   "id": "07971ba6",
   "metadata": {},
   "outputs": [
    {
     "name": "stdout",
     "output_type": "stream",
     "text": [
      "Precisión Árbol de decisión: 0.81\n"
     ]
    },
    {
     "name": "stderr",
     "output_type": "stream",
     "text": [
      "c:\\Users\\Windows\\AppData\\Local\\Programs\\Python\\Python312\\Lib\\site-packages\\sklearn\\metrics\\_classification.py:1565: UndefinedMetricWarning: Precision is ill-defined and being set to 0.0 in labels with no predicted samples. Use `zero_division` parameter to control this behavior.\n",
      "  _warn_prf(average, modifier, f\"{metric.capitalize()} is\", len(result))\n",
      "c:\\Users\\Windows\\AppData\\Local\\Programs\\Python\\Python312\\Lib\\site-packages\\sklearn\\metrics\\_classification.py:1565: UndefinedMetricWarning: Precision is ill-defined and being set to 0.0 in labels with no predicted samples. Use `zero_division` parameter to control this behavior.\n",
      "  _warn_prf(average, modifier, f\"{metric.capitalize()} is\", len(result))\n",
      "c:\\Users\\Windows\\AppData\\Local\\Programs\\Python\\Python312\\Lib\\site-packages\\sklearn\\metrics\\_classification.py:1565: UndefinedMetricWarning: Precision is ill-defined and being set to 0.0 in labels with no predicted samples. Use `zero_division` parameter to control this behavior.\n",
      "  _warn_prf(average, modifier, f\"{metric.capitalize()} is\", len(result))\n",
      "c:\\Users\\Windows\\AppData\\Local\\Programs\\Python\\Python312\\Lib\\site-packages\\sklearn\\metrics\\_classification.py:1565: UndefinedMetricWarning: Precision is ill-defined and being set to 0.0 in labels with no predicted samples. Use `zero_division` parameter to control this behavior.\n",
      "  _warn_prf(average, modifier, f\"{metric.capitalize()} is\", len(result))\n",
      "c:\\Users\\Windows\\AppData\\Local\\Programs\\Python\\Python312\\Lib\\site-packages\\sklearn\\metrics\\_classification.py:1565: UndefinedMetricWarning: Precision is ill-defined and being set to 0.0 in labels with no predicted samples. Use `zero_division` parameter to control this behavior.\n",
      "  _warn_prf(average, modifier, f\"{metric.capitalize()} is\", len(result))\n",
      "c:\\Users\\Windows\\AppData\\Local\\Programs\\Python\\Python312\\Lib\\site-packages\\sklearn\\metrics\\_classification.py:1565: UndefinedMetricWarning: Precision is ill-defined and being set to 0.0 in labels with no predicted samples. Use `zero_division` parameter to control this behavior.\n",
      "  _warn_prf(average, modifier, f\"{metric.capitalize()} is\", len(result))\n",
      "c:\\Users\\Windows\\AppData\\Local\\Programs\\Python\\Python312\\Lib\\site-packages\\sklearn\\metrics\\_classification.py:1565: UndefinedMetricWarning: Precision is ill-defined and being set to 0.0 in labels with no predicted samples. Use `zero_division` parameter to control this behavior.\n",
      "  _warn_prf(average, modifier, f\"{metric.capitalize()} is\", len(result))\n",
      "c:\\Users\\Windows\\AppData\\Local\\Programs\\Python\\Python312\\Lib\\site-packages\\sklearn\\metrics\\_classification.py:1565: UndefinedMetricWarning: Precision is ill-defined and being set to 0.0 in labels with no predicted samples. Use `zero_division` parameter to control this behavior.\n",
      "  _warn_prf(average, modifier, f\"{metric.capitalize()} is\", len(result))\n",
      "c:\\Users\\Windows\\AppData\\Local\\Programs\\Python\\Python312\\Lib\\site-packages\\sklearn\\metrics\\_classification.py:1565: UndefinedMetricWarning: Precision is ill-defined and being set to 0.0 in labels with no predicted samples. Use `zero_division` parameter to control this behavior.\n",
      "  _warn_prf(average, modifier, f\"{metric.capitalize()} is\", len(result))\n",
      "c:\\Users\\Windows\\AppData\\Local\\Programs\\Python\\Python312\\Lib\\site-packages\\sklearn\\metrics\\_classification.py:1565: UndefinedMetricWarning: Precision is ill-defined and being set to 0.0 in labels with no predicted samples. Use `zero_division` parameter to control this behavior.\n",
      "  _warn_prf(average, modifier, f\"{metric.capitalize()} is\", len(result))\n"
     ]
    },
    {
     "name": "stdout",
     "output_type": "stream",
     "text": [
      "Accuracy promedio: 0.8128\n",
      "Precision promedio: 0.4064\n",
      "Recall promedio: 0.5000\n",
      "F1-score promedio: 0.4484\n"
     ]
    },
    {
     "data": {
      "image/png": "[encoded data removed]",
      "text/plain": [
       "<Figure size 1000x600 with 1 Axes>"
      ]
     },
     "metadata": {},
     "output_type": "display_data"
    }
   ],
   "source": [
    "from sklearn.datasets import load_iris\n",
    "from sklearn.model_selection import cross_validate, train_test_split\n",
    "from sklearn.tree import DecisionTreeClassifier, plot_tree\n",
    "from sklearn.neighbors import KNeighborsClassifier\n",
    "from sklearn.metrics import accuracy_score\n",
    "import matplotlib.pyplot as plt\n",
    "\n",
    "# Cargar dataset Iris\n",
    "#iris = load_iris()\n",
    "#X = iris.data\n",
    "#y = iris.target\n",
    "\n",
    "\n",
    "X = df_final.drop(columns=['target'], axis=1)\n",
    "y = df_final['target'].to_numpy()\n",
    "\n",
    "# Dividir en entrenamiento y prueba\n",
    "X_train, X_test, y_train, y_test = train_test_split(X, y, test_size=0.3, random_state=42)\n",
    "\n",
    "# ===== Modelo: Árbol de decisión =====\n",
    "arbol = DecisionTreeClassifier(max_depth=3, random_state=42)\n",
    "arbol.fit(X_train, y_train)\n",
    "y_pred_arbol = arbol.predict(X_test)\n",
    "acc_arbol = accuracy_score(y_test, y_pred_arbol)\n",
    "print(f\"Precisión Árbol de decisión: {acc_arbol:.2f}\")\n",
    "\n",
    "#Agregar aqui el codigo hecho en clase\n",
    "\n",
    "scoring = {\n",
    "    'accuracy':'accuracy',\n",
    "    'precision_macro':'precision_macro',\n",
    "    'recall_macro':'recall_macro',\n",
    "    'f1_macro':'f1_macro'\n",
    "}\n",
    "\n",
    "results = cross_validate(arbol, X,y, cv=10,scoring=scoring)\n",
    "print(f\"Accuracy promedio: {results['test_accuracy'].mean():.4f}\")\n",
    "print(f\"Precision promedio: {results['test_precision_macro'].mean():.4f}\")\n",
    "print(f\"Recall promedio: {results['test_recall_macro'].mean():.4f}\")\n",
    "print(f\"F1-score promedio: {results['test_f1_macro'].mean():.4f}\")\n",
    "\n",
    "\n",
    "# Visualizar el árbol\n",
    "plt.figure(figsize=(10, 6))\n",
    "plot_tree(arbol, filled=True, feature_names=X.columns, class_names=arbol.classes_.astype(str))\n",
    "plt.title(\"Árbol de decisión - train\")\n",
    "plt.show()\n",
    "\n"
   ]
  },
  {
   "cell_type": "code",
   "execution_count": 25,
   "id": "9df9f328",
   "metadata": {},
   "outputs": [
    {
     "name": "stdout",
     "output_type": "stream",
     "text": [
      "Precisión KNN: 0.78\n"
     ]
    }
   ],
   "source": [
    "# ===== Modelo: K-Nearest Neighbors =====\n",
    "knn = KNeighborsClassifier(n_neighbors=5)\n",
    "knn.fit(X_train, y_train)\n",
    "y_pred_knn = knn.predict(X_test)\n",
    "acc_knn = accuracy_score(y_test, y_pred_knn)\n",
    "print(f\"Precisión KNN: {acc_knn:.2f}\")"
   ]
  },
  {
   "cell_type": "code",
   "execution_count": null,
   "id": "be18f054",
   "metadata": {},
   "outputs": [],
   "source": []
  }
 ],
 "metadata": {
  "kernelspec": {
   "display_name": "Python 3",
   "language": "python",
   "name": "python3"
  },
  "language_info": {
   "codemirror_mode": {
    "name": "ipython",
    "version": 3
   },
   "file_extension": ".py",
   "mimetype": "text/x-python",
   "name": "python",
   "nbconvert_exporter": "python",
   "pygments_lexer": "ipython3",
   "version": "3.12.6"
  }
 },
 "nbformat": 4,
 "nbformat_minor": 5
}
